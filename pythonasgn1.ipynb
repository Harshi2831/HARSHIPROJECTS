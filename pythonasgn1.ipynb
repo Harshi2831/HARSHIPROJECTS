{
 "cells": [
  {
   "cell_type": "markdown",
   "id": "9dca8a68-d074-4d4c-8233-b01531c569fe",
   "metadata": {},
   "source": [
    "\n",
    "                                                    \n",
    "                                                    Python Functions\n",
    "\n",
    "                                                    "
   ]
  },
  {
   "cell_type": "code",
   "execution_count": 1,
   "id": "9648123d-dcc6-4321-85db-0212663b1d5b",
   "metadata": {},
   "outputs": [
    {
     "name": "stdout",
     "output_type": "stream",
     "text": [
      "Hello, World!\n",
      "20\n",
      "John Doe\n",
      "[1, 2, 3]\n",
      "{'Name': 'Alice', 'Age': 25, 'City': 'New York'}\n"
     ]
    }
   ],
   "source": [
    "# 1. Functions with Different Numbers of Parameters and Return Types\n",
    "\n",
    "# Example 1: No parameters, returns a string\n",
    "def greet_world():\n",
    "    return \"Hello, World!\"\n",
    "\n",
    "print(greet_world())  \n",
    "\n",
    "# Example 2: One parameter, returns an integer\n",
    "def double_value(x):\n",
    "    return x * 2\n",
    "\n",
    "print(double_value(10))  \n",
    "\n",
    "# Example 3: Two parameters, returns a concatenated string\n",
    "def full_name(first_name, last_name):\n",
    "    return f\"{first_name} {last_name}\"\n",
    "\n",
    "print(full_name(\"John\", \"Doe\")) \n",
    "\n",
    "# Example 4: Multiple parameters, returns a list\n",
    "def create_list(a, b, c):\n",
    "    return [a, b, c]\n",
    "\n",
    "print(create_list(1, 2, 3))  \n",
    "\n",
    "# Example 5: Three parameters, returns a dictionary\n",
    "def person_info(name, age, city):\n",
    "    return {\"Name\": name, \"Age\": age, \"City\": city}\n",
    "\n",
    "print(person_info(\"Alice\", 25, \"New York\")) "
   ]
  },
  {
   "cell_type": "code",
   "execution_count": 4,
   "id": "258488c0-ba54-490e-a270-295efcfe84b5",
   "metadata": {},
   "outputs": [
    {
     "name": "stdout",
     "output_type": "stream",
     "text": [
      "10\n",
      "20\n",
      "30\n",
      "I am modified by inner\n",
      "15\n"
     ]
    }
   ],
   "source": [
    "# Example 1: Local scope\n",
    "def local_variable_example():\n",
    "    local_var = 10\n",
    "    return local_var\n",
    "\n",
    "print(local_variable_example()) \n",
    "\n",
    "# Example 2: Global variable usage\n",
    "global_var = 20\n",
    "\n",
    "def use_global():\n",
    "    return global_var\n",
    "\n",
    "print(use_global()) \n",
    "\n",
    "# Example 3: Modify global variable inside a function\n",
    "def modify_global():\n",
    "    global global_var\n",
    "    global_var += 10\n",
    "    return global_var\n",
    "\n",
    "print(modify_global())  \n",
    "\n",
    "# Example 4: Nonlocal variable (used in nested functions)\n",
    "def outer_function():\n",
    "    nonlocal_var = \"I am outer\"\n",
    "\n",
    "    def inner_function():\n",
    "        nonlocal nonlocal_var\n",
    "        nonlocal_var = \"I am modified by inner\"\n",
    "        return nonlocal_var\n",
    "\n",
    "    inner_function()\n",
    "    return nonlocal_var\n",
    "\n",
    "print(outer_function())  \n",
    "\n",
    "# Example 5: Parameter shadowing\n",
    "x = 50\n",
    "\n",
    "def shadow_example(x):\n",
    "    return x + 5  # Uses the local x\n",
    "\n",
    "print(shadow_example(10))  \n"
   ]
  },
  {
   "cell_type": "code",
   "execution_count": 5,
   "id": "9658e770-df56-408f-8087-81a678948e0c",
   "metadata": {},
   "outputs": [
    {
     "name": "stdout",
     "output_type": "stream",
     "text": [
      "Hello, World!\n",
      "50\n",
      "My name is John, I am 30 years old, and I live in New York.\n",
      "15\n",
      "['apple']\n"
     ]
    }
   ],
   "source": [
    "# Example 1: Single default argument\n",
    "def greet(name=\"World\"):\n",
    "    return f\"Hello, {name}!\"\n",
    "\n",
    "print(greet())  \n",
    "\n",
    "# Example 2: Two parameters, one with a default\n",
    "def calculate_area(length, width=5):\n",
    "    return length * width\n",
    "\n",
    "print(calculate_area(10)) \n",
    "\n",
    "# Example 3: Multiple default arguments\n",
    "def introduce(name=\"John\", age=30, city=\"New York\"):\n",
    "    return f\"My name is {name}, I am {age} years old, and I live in {city}.\"\n",
    "\n",
    "print(introduce()) \n",
    "\n",
    "# Example 4: Default value based on another argument\n",
    "def add_with_offset(a, b=10):\n",
    "    return a + b\n",
    "\n",
    "print(add_with_offset(5))  \n",
    "\n",
    "# Example 5: Default argument that changes dynamically\n",
    "def append_item_to_list(item, items=None):\n",
    "    if items is None:\n",
    "        items = []\n",
    "    items.append(item)\n",
    "    return items\n",
    "\n",
    "print(append_item_to_list(\"apple\"))  \n"
   ]
  },
  {
   "cell_type": "code",
   "execution_count": 2,
   "id": "cd262372-d3ea-4e43-a1ad-ffee8833a5db",
   "metadata": {},
   "outputs": [
    {
     "name": "stdout",
     "output_type": "stream",
     "text": [
      "120\n",
      "8\n",
      "10\n",
      "5\n",
      "4\n",
      "3\n",
      "2\n",
      "1\n",
      "Blast off!\n",
      "olleh\n"
     ]
    }
   ],
   "source": [
    "# Example 1: Factorial function\n",
    "def factorial(n):\n",
    "    if n == 1:\n",
    "        return 1\n",
    "    else:\n",
    "        return n * factorial(n - 1)\n",
    "\n",
    "print(factorial(5))  \n",
    "\n",
    "# Example 2: Fibonacci sequence\n",
    "def fibonacci(n):\n",
    "    if n <= 1:\n",
    "        return n\n",
    "    else:\n",
    "        return fibonacci(n-1) + fibonacci(n-2)\n",
    "\n",
    "print(fibonacci(6))  \n",
    "\n",
    "# Example 3: Sum of list elements\n",
    "def sum_list(lst):\n",
    "    if len(lst) == 0:\n",
    "        return 0\n",
    "    else:\n",
    "        return lst[0] + sum_list(lst[1:])\n",
    "\n",
    "print(sum_list([1, 2, 3, 4]))  \n",
    "\n",
    "# Example 4: Count down to zero\n",
    "def countdown(n):\n",
    "    if n == 0:\n",
    "        print(\"Blast off!\")\n",
    "    else:\n",
    "        print(n)\n",
    "        countdown(n - 1)\n",
    "\n",
    "countdown(5)\n",
    "\n",
    "\n",
    "# Example 5: Reverse a string\n",
    "def reverse_string(s):\n",
    "    if len(s) == 0:\n",
    "        return s\n",
    "    else:\n",
    "        return reverse_string(s[1:]) + s[0]\n",
    "\n",
    "print(reverse_string(\"hello\"))  "
   ]
  },
  {
   "cell_type": "code",
   "execution_count": null,
   "id": "e091e17b-a906-406a-874b-8d602e6db465",
   "metadata": {},
   "outputs": [],
   "source": []
  },
  {
   "cell_type": "code",
   "execution_count": 3,
   "id": "cc61014c-adde-448c-bb0f-cff375a86fd2",
   "metadata": {},
   "outputs": [
    {
     "name": "stdout",
     "output_type": "stream",
     "text": [
      "\n",
      "    Greets a person by their name.\n",
      "\n",
      "    Parameters:\n",
      "    name (str): The name of the person to greet.\n",
      "\n",
      "    Returns:\n",
      "    str: A greeting message.\n",
      "    \n",
      "\n",
      "    Adds two numbers together.\n",
      "\n",
      "    Parameters:\n",
      "    a (int or float): The first number.\n",
      "    b (int or float): The second number.\n",
      "\n",
      "    Returns:\n",
      "    int or float: The sum of a and b.\n",
      "    \n",
      "\n",
      "    Provides a description of a person.\n",
      "\n",
      "    Parameters:\n",
      "    name (str): The person's name.\n",
      "    age (int, optional): The person's age. Defaults to 30.\n",
      "\n",
      "    Returns:\n",
      "    str: A description of the person.\n",
      "    \n",
      "\n",
      "    Calculates the factorial of a number using recursion.\n",
      "\n",
      "    Parameters:\n",
      "    n (int): The number to calculate the factorial of.\n",
      "\n",
      "    Returns:\n",
      "    int: The factorial of n.\n",
      "    \n",
      "\n",
      "    Prints a simple message.\n",
      "\n",
      "    Returns:\n",
      "    None\n",
      "    \n"
     ]
    }
   ],
   "source": [
    "# Example 1: Simple docstring\n",
    "def greet(name):\n",
    "    \"\"\"\n",
    "    Greets a person by their name.\n",
    "\n",
    "    Parameters:\n",
    "    name (str): The name of the person to greet.\n",
    "\n",
    "    Returns:\n",
    "    str: A greeting message.\n",
    "    \"\"\"\n",
    "    return f\"Hello, {name}!\"\n",
    "\n",
    "print(greet.__doc__)\n",
    "\n",
    "# Example 2: Docstring with multiple parameters\n",
    "def add_numbers(a, b):\n",
    "    \"\"\"\n",
    "    Adds two numbers together.\n",
    "\n",
    "    Parameters:\n",
    "    a (int or float): The first number.\n",
    "    b (int or float): The second number.\n",
    "\n",
    "    Returns:\n",
    "    int or float: The sum of a and b.\n",
    "    \"\"\"\n",
    "    return a + b\n",
    "\n",
    "print(add_numbers.__doc__)\n",
    "\n",
    "# Example 3: Docstring for a function with default arguments\n",
    "def describe_person(name, age=30):\n",
    "    \"\"\"\n",
    "    Provides a description of a person.\n",
    "\n",
    "    Parameters:\n",
    "    name (str): The person's name.\n",
    "    age (int, optional): The person's age. Defaults to 30.\n",
    "\n",
    "    Returns:\n",
    "    str: A description of the person.\n",
    "    \"\"\"\n",
    "    return f\"{name} is {age} years old.\"\n",
    "\n",
    "print(describe_person.__doc__)\n",
    "\n",
    "# Example 4: Docstring with a recursive function\n",
    "def factorial(n):\n",
    "    \"\"\"\n",
    "    Calculates the factorial of a number using recursion.\n",
    "\n",
    "    Parameters:\n",
    "    n (int): The number to calculate the factorial of.\n",
    "\n",
    "    Returns:\n",
    "    int: The factorial of n.\n",
    "    \"\"\"\n",
    "    if n == 1:\n",
    "        return 1\n",
    "    return n * factorial(n - 1)\n",
    "\n",
    "print(factorial.__doc__)\n",
    "\n",
    "# Example 5: Docstring with a return type of None\n",
    "def print_message():\n",
    "    \"\"\"\n",
    "    Prints a simple message.\n",
    "\n",
    "    Returns:\n",
    "    None\n",
    "    \"\"\"\n",
    "    print(\"Hello, world!\")\n",
    "\n",
    "print(print_message.__doc__)\n"
   ]
  },
  {
   "cell_type": "code",
   "execution_count": null,
   "id": "dd9dd44a-b3be-46e6-bf87-fb6d9d884adf",
   "metadata": {},
   "outputs": [],
   "source": [
    "\n",
    "\n",
    "                                                                Lambda Functions   \n",
    "\n"
   ]
  },
  {
   "cell_type": "code",
   "execution_count": 12,
   "id": "5e1c801d-9a4f-463d-8257-0d61518138cf",
   "metadata": {},
   "outputs": [
    {
     "name": "stdout",
     "output_type": "stream",
     "text": [
      "8\n",
      "16\n",
      "15\n",
      "False\n",
      "Hello, World!\n"
     ]
    }
   ],
   "source": [
    "# Example 1: Lambda function for adding two numbers\n",
    "add = lambda a, b: a + b\n",
    "print(add(5, 3)) \n",
    "\n",
    "# Example 2: Lambda function for squaring a number\n",
    "square = lambda x: x ** 2\n",
    "print(square(4))  \n",
    "\n",
    "# Example 3: Lambda function for finding the maximum of two numbers\n",
    "maximum = lambda a, b: a if a > b else b\n",
    "print(maximum(10, 15))  \n",
    "\n",
    "# Example 4: Lambda function for checking if a number is even\n",
    "is_even = lambda x: x % 2 == 0\n",
    "print(is_even(7))  \n",
    "\n",
    "# Example 5: Lambda function for concatenating two strings\n",
    "concat = lambda s1, s2: s1 + s2\n",
    "print(concat(\"Hello, \", \"World!\"))  \n"
   ]
  },
  {
   "cell_type": "code",
   "execution_count": 13,
   "id": "c265a5ad-3987-40f7-998f-9f72ce07440e",
   "metadata": {},
   "outputs": [
    {
     "name": "stdout",
     "output_type": "stream",
     "text": [
      "[1, 4, 9, 16]\n",
      "[2, 4, 6]\n",
      "24\n",
      "[32.0, 50.0, 68.0, 86.0]\n",
      "['hello', 'elephant']\n"
     ]
    }
   ],
   "source": [
    "from functools import reduce\n",
    "\n",
    "# Example 1: Using lambda with map (to square all numbers in a list)\n",
    "numbers = [1, 2, 3, 4]\n",
    "squares = list(map(lambda x: x ** 2, numbers))\n",
    "print(squares)  \n",
    "\n",
    "# Example 2: Using lambda with filter (to filter even numbers from a list)\n",
    "numbers = [1, 2, 3, 4, 5, 6]\n",
    "evens = list(filter(lambda x: x % 2 == 0, numbers))\n",
    "print(evens)  \n",
    "\n",
    "# Example 3: Using lambda with reduce (to find the product of all numbers in a list)\n",
    "numbers = [1, 2, 3, 4]\n",
    "product = reduce(lambda x, y: x * y, numbers)\n",
    "print(product)  \n",
    "\n",
    "# Example 4: Using lambda with map (to convert temperatures from Celsius to Fahrenheit)\n",
    "celsius = [0, 10, 20, 30]\n",
    "fahrenheit = list(map(lambda c: (c * 9/5) + 32, celsius))\n",
    "print(fahrenheit) \n",
    "\n",
    "# Example 5: Using lambda with filter (to find words longer than 3 characters)\n",
    "words = [\"hi\", \"hello\", \"sun\", \"cat\", \"elephant\"]\n",
    "long_words = list(filter(lambda word: len(word) > 3, words))\n",
    "print(long_words)  \n"
   ]
  },
  {
   "cell_type": "code",
   "execution_count": 14,
   "id": "b08f29d2-2ea3-4c47-99fd-c9843e699336",
   "metadata": {},
   "outputs": [
    {
     "name": "stdout",
     "output_type": "stream",
     "text": [
      "16\n",
      "16\n",
      "True\n",
      "True\n",
      "30\n",
      "30\n",
      "[2, 4, 6]\n",
      "[2, 4, 6]\n",
      "[(3, 1), (1, 2), (5, 4)]\n",
      "[(3, 1), (1, 2), (5, 4)]\n"
     ]
    }
   ],
   "source": [
    "# Example 1: Regular function for squaring a number\n",
    "def square_function(x):\n",
    "    return x ** 2\n",
    "\n",
    "# Lambda equivalent\n",
    "square_lambda = lambda x: x ** 2\n",
    "\n",
    "# Use\n",
    "print(square_function(4))  \n",
    "print(square_lambda(4))   \n",
    "\n",
    "# Example 2: Regular function for checking if a number is positive\n",
    "def is_positive(n):\n",
    "    return n > 0\n",
    "\n",
    "# Lambda equivalent\n",
    "is_positive_lambda = lambda n: n > 0\n",
    "\n",
    "# Use\n",
    "print(is_positive(5))           \n",
    "print(is_positive_lambda(5))    \n",
    "\n",
    "# Example 3: Regular function for adding two numbers\n",
    "def add_function(a, b):\n",
    "    return a + b\n",
    "\n",
    "# Lambda equivalent\n",
    "add_lambda = lambda a, b: a + b\n",
    "\n",
    "# Use\n",
    "print(add_function(10, 20))     \n",
    "print(add_lambda(10, 20))       \n",
    "\n",
    "# Example 4: Regular function for filtering even numbers from a list\n",
    "def filter_even(numbers):\n",
    "    return [n for n in numbers if n % 2 == 0]\n",
    "\n",
    "# Lambda with filter equivalent\n",
    "numbers = [1, 2, 3, 4, 5, 6]\n",
    "filter_even_lambda = list(filter(lambda x: x % 2 == 0, numbers))\n",
    "\n",
    "# Use\n",
    "print(filter_even(numbers))     \n",
    "print(filter_even_lambda)        \n",
    "\n",
    "# Example 5: Regular function for sorting a list of tuples by the second element\n",
    "def sort_by_second_element(tuples):\n",
    "    return sorted(tuples, key=lambda x: x[1])\n",
    "\n",
    "# Equivalent lambda directly in sorted\n",
    "tuples = [(1, 2), (3, 1), (5, 4)]\n",
    "sorted_tuples = sorted(tuples, key=lambda x: x[1])\n",
    "\n",
    "# Use\n",
    "print(sort_by_second_element(tuples))  \n",
    "print(sorted_tuples)                  \n"
   ]
  },
  {
   "cell_type": "markdown",
   "id": "3799af99-a301-4381-86b7-19ec274d1ab7",
   "metadata": {},
   "source": [
    "\n",
    "                                                                 \n",
    "                                                                 NumPy\n",
    "\n",
    "                                                                 "
   ]
  },
  {
   "cell_type": "code",
   "execution_count": 5,
   "id": "ddd88e31-3ec4-4f21-8d48-1a82ebc3258e",
   "metadata": {},
   "outputs": [
    {
     "name": "stdout",
     "output_type": "stream",
     "text": [
      "1D Array: [1 2 3 4 5]\n",
      "2D Array:\n",
      " [[1 2 3]\n",
      " [4 5 6]]\n",
      "3D Array:\n",
      " [[[1 2]\n",
      "  [3 4]]\n",
      "\n",
      " [[5 6]\n",
      "  [7 8]]]\n",
      "Array with Zeros:\n",
      " [[0. 0. 0.]\n",
      " [0. 0. 0.]\n",
      " [0. 0. 0.]]\n",
      "Array with Range:\n",
      " [1 2 3 4 5 6 7 8 9]\n"
     ]
    }
   ],
   "source": [
    " import numpy as np\n",
    "# Example 1: 1D Array\n",
    "arr_1d = np.array([1, 2, 3, 4, 5])\n",
    "print(\"1D Array:\", arr_1d)\n",
    "\n",
    "# Example 2: 2D Array (Matrix)\n",
    "arr_2d = np.array([[1, 2, 3], [4, 5, 6]])\n",
    "print(\"2D Array:\\n\", arr_2d)\n",
    "\n",
    "# Example 3: 3D Array\n",
    "arr_3d = np.array([[[1, 2], [3, 4]], [[5, 6], [7, 8]]])\n",
    "print(\"3D Array:\\n\", arr_3d)\n",
    "\n",
    "# Example 4: Array with zeros\n",
    "arr_zeros = np.zeros((3, 3))\n",
    "print(\"Array with Zeros:\\n\", arr_zeros)\n",
    "\n",
    "# Example 5: Array with a range of numbers\n",
    "arr_range = np.arange(1, 10)\n",
    "print(\"Array with Range:\\n\", arr_range)\n"
   ]
  },
  {
   "cell_type": "code",
   "execution_count": 6,
   "id": "f0ba8255-4748-46f7-bb13-7155fc3da26b",
   "metadata": {},
   "outputs": [
    {
     "name": "stdout",
     "output_type": "stream",
     "text": [
      "Add 10 to each element: [11 12 13 14]\n",
      "Element-wise addition: [5 7 9]\n",
      "Element-wise multiplication: [ 4 10 18]\n",
      "Array divided by 2: [0.5 1.  1.5]\n",
      "Matrix multiplication:\n",
      " [[19 22]\n",
      " [43 50]]\n"
     ]
    }
   ],
   "source": [
    "# Example 1: Adding a scalar to an array\n",
    "arr = np.array([1, 2, 3, 4])\n",
    "arr_add = arr + 10\n",
    "print(\"Add 10 to each element:\", arr_add)\n",
    "\n",
    "# Example 2: Element-wise addition between two arrays\n",
    "arr1 = np.array([1, 2, 3])\n",
    "arr2 = np.array([4, 5, 6])\n",
    "arr_sum = arr1 + arr2\n",
    "print(\"Element-wise addition:\", arr_sum)\n",
    "\n",
    "# Example 3: Element-wise multiplication\n",
    "arr_mul = arr1 * arr2\n",
    "print(\"Element-wise multiplication:\", arr_mul)\n",
    "\n",
    "# Example 4: Array division by a scalar\n",
    "arr_div = arr1 / 2\n",
    "print(\"Array divided by 2:\", arr_div)\n",
    "\n",
    "# Example 5: Matrix multiplication\n",
    "matrix1 = np.array([[1, 2], [3, 4]])\n",
    "matrix2 = np.array([[5, 6], [7, 8]])\n",
    "matrix_mul = np.dot(matrix1, matrix2)\n",
    "print(\"Matrix multiplication:\\n\", matrix_mul)\n"
   ]
  },
  {
   "cell_type": "code",
   "execution_count": 7,
   "id": "9ff8cb3c-4fde-4e0b-bf8a-a662ac8db5ec",
   "metadata": {},
   "outputs": [
    {
     "name": "stdout",
     "output_type": "stream",
     "text": [
      "Access element: 60\n",
      "Sliced 1D array: [20 30 40]\n",
      "Sliced 2D array:\n",
      " [[20 30]\n",
      " [50 60]]\n",
      "Reversed 1D array: [50 40 30 20 10]\n",
      "Filtered array (elements > 30): [40 50]\n"
     ]
    }
   ],
   "source": [
    "\t# Example 1: Access a specific element (2D array)\n",
    "arr_2d = np.array([[10, 20, 30], [40, 50, 60], [70, 80, 90]])\n",
    "element = arr_2d[1, 2]  # Row 2, Column 3\n",
    "print(\"Access element:\", element)\n",
    "\n",
    "# Example 2: Slice a portion of a 1D array\n",
    "arr_1d = np.array([10, 20, 30, 40, 50])\n",
    "slice_1d = arr_1d[1:4]\n",
    "print(\"Sliced 1D array:\", slice_1d)\n",
    "\n",
    "# Example 3: Slice a portion of a 2D array\n",
    "slice_2d = arr_2d[0:2, 1:3]\n",
    "print(\"Sliced 2D array:\\n\", slice_2d)\n",
    "\n",
    "# Example 4: Reverse a 1D array\n",
    "reversed_arr = arr_1d[::-1]\n",
    "print(\"Reversed 1D array:\", reversed_arr)\n",
    "\n",
    "# Example 5: Use Boolean indexing\n",
    "bool_index = arr_1d > 30\n",
    "filtered_arr = arr_1d[bool_index]\n",
    "print(\"Filtered array (elements > 30):\", filtered_arr)\n"
   ]
  },
  {
   "cell_type": "code",
   "execution_count": 8,
   "id": "347e69d1-94ff-4d3f-ab03-cd719f96f413",
   "metadata": {},
   "outputs": [
    {
     "name": "stdout",
     "output_type": "stream",
     "text": [
      "Reshaped array:\n",
      " [[1 2 3]\n",
      " [4 5 6]]\n",
      "Transposed array:\n",
      " [[1 3 5]\n",
      " [2 4 6]]\n",
      "Concatenated array: [1 2 3 4 5 6]\n",
      "Stacked array:\n",
      " [[1 2 3]\n",
      " [4 5 6]]\n",
      "Flattened array: [1 2 3 4 5 6]\n"
     ]
    }
   ],
   "source": [
    "# Example 1: Reshape a 1D array to a 2D array\n",
    "arr = np.array([1, 2, 3, 4, 5, 6])\n",
    "reshaped_arr = arr.reshape(2, 3)\n",
    "print(\"Reshaped array:\\n\", reshaped_arr)\n",
    "\n",
    "# Example 2: Transpose of a 2D array\n",
    "arr_2d = np.array([[1, 2], [3, 4], [5, 6]])\n",
    "transposed_arr = arr_2d.T\n",
    "print(\"Transposed array:\\n\", transposed_arr)\n",
    "\n",
    "# Example 3: Concatenate two 1D arrays\n",
    "arr1 = np.array([1, 2, 3])\n",
    "arr2 = np.array([4, 5, 6])\n",
    "concatenated_arr = np.concatenate((arr1, arr2))\n",
    "print(\"Concatenated array:\", concatenated_arr)\n",
    "\n",
    "# Example 4: Concatenate along a new axis (stacking)\n",
    "stacked_arr = np.stack((arr1, arr2))\n",
    "print(\"Stacked array:\\n\", stacked_arr)\n",
    "\n",
    "# Example 5: Flatten a 2D array to 1D\n",
    "flattened_arr = arr_2d.flatten()\n",
    "print(\"Flattened array:\", flattened_arr)\n",
    "\n"
   ]
  },
  {
   "cell_type": "code",
   "execution_count": 9,
   "id": "b548c267-f1cd-484a-85da-3ec78fef07a1",
   "metadata": {},
   "outputs": [
    {
     "name": "stdout",
     "output_type": "stream",
     "text": [
      "Random array (uniform distribution):\n",
      " [[0.70448115 0.46881541 0.15907308]\n",
      " [0.0832982  0.23796389 0.5865192 ]\n",
      " [0.23510121 0.11874905 0.93898082]]\n",
      "Random integers:\n",
      " [[0 3 1]\n",
      " [7 6 2]]\n",
      "Random normal distribution array:\n",
      " [[ 0.82949006  1.56632586 -0.48290652]\n",
      " [-0.86296755  0.21939892  0.79896061]\n",
      " [-1.09288237  0.34883215 -0.72899549]]\n",
      "Random array with seed:\n",
      " [0.37454012 0.95071431 0.73199394]\n",
      "Random choice from array: [50 50 20]\n"
     ]
    }
   ],
   "source": [
    "# Example 1: Generate an array of random numbers (uniform distribution)\n",
    "random_arr = np.random.rand(3, 3)\n",
    "print(\"Random array (uniform distribution):\\n\", random_arr)\n",
    "\n",
    "# Example 2: Generate random integers within a specific range\n",
    "random_ints = np.random.randint(0, 10, size=(2, 3))\n",
    "print(\"Random integers:\\n\", random_ints)\n",
    "\n",
    "# Example 3: Generate random numbers from a normal distribution\n",
    "random_normal = np.random.randn(3, 3)\n",
    "print(\"Random normal distribution array:\\n\", random_normal)\n",
    "\n",
    "# Example 4: Set a random seed for reproducibility\n",
    "np.random.seed(42)\n",
    "random_seeded = np.random.rand(3)\n",
    "print(\"Random array with seed:\\n\", random_seeded)\n",
    "\n",
    "# Example 5: Random choice from an array\n",
    "arr = np.array([10, 20, 30, 40, 50])\n",
    "random_choice = np.random.choice(arr, size=3)\n",
    "print(\"Random choice from array:\", random_choice)\n",
    "\n",
    "\n",
    "\n"
   ]
  },
  {
   "cell_type": "markdown",
   "id": "964f169f-3f0a-47cf-b5b3-2103bec70d98",
   "metadata": {},
   "source": [
    "\n",
    "                                                            \n",
    "                                                            Pandas\n",
    "\n",
    "                                                            "
   ]
  },
  {
   "cell_type": "code",
   "execution_count": 10,
   "id": "bfc40429-76e8-4939-bcff-4c945d08708c",
   "metadata": {},
   "outputs": [
    {
     "name": "stdout",
     "output_type": "stream",
     "text": [
      "Pandas Series:\n",
      " 0    10\n",
      "1    20\n",
      "2    30\n",
      "3    40\n",
      "dtype: int64\n",
      "Pandas DataFrame:\n",
      "       Name  Age\n",
      "0    Alice   25\n",
      "1      Bob   30\n",
      "2  Charlie   35\n",
      "DataFrame with custom index:\n",
      "    Product  Price\n",
      "x1       A    100\n",
      "x2       B    150\n",
      "x3       C    200\n",
      "DataFrame from NumPy array:\n",
      "           A         B         C\n",
      "0  0.155995  0.058084  0.866176\n",
      "1  0.601115  0.708073  0.020584\n",
      "2  0.969910  0.832443  0.212339\n",
      "Series with custom index:\n",
      " a    1\n",
      "b    2\n",
      "c    3\n",
      "dtype: int64\n"
     ]
    }
   ],
   "source": [
    "import pandas as pd\n",
    "\n",
    "# Example 1: Create a Pandas Series from a list\n",
    "data = [10, 20, 30, 40]\n",
    "series = pd.Series(data)\n",
    "print(\"Pandas Series:\\n\", series)\n",
    "\n",
    "# Example 2: Create a Pandas DataFrame from a dictionary\n",
    "data = {'Name': ['Alice', 'Bob', 'Charlie'], 'Age': [25, 30, 35]}\n",
    "df = pd.DataFrame(data)\n",
    "print(\"Pandas DataFrame:\\n\", df)\n",
    "\n",
    "# Example 3: Create a DataFrame with a custom index\n",
    "data = {'Product': ['A', 'B', 'C'], 'Price': [100, 150, 200]}\n",
    "df_custom_index = pd.DataFrame(data, index=['x1', 'x2', 'x3'])\n",
    "print(\"DataFrame with custom index:\\n\", df_custom_index)\n",
    "\n",
    "# Example 4: Create a DataFrame from a NumPy array\n",
    "import numpy as np\n",
    "data = np.random.rand(3, 3)\n",
    "df_numpy = pd.DataFrame(data, columns=['A', 'B', 'C'])\n",
    "print(\"DataFrame from NumPy array:\\n\", df_numpy)\n",
    "\n",
    "# Example 5: Create a Series with a custom index\n",
    "series_custom_index = pd.Series([1, 2, 3], index=['a', 'b', 'c'])\n",
    "print(\"Series with custom index:\\n\", series_custom_index)\n",
    "\n",
    "\n"
   ]
  },
  {
   "cell_type": "code",
   "execution_count": 12,
   "id": "d753d108-673b-4423-a1bf-2b34effff5a5",
   "metadata": {},
   "outputs": [
    {
     "name": "stdout",
     "output_type": "stream",
     "text": [
      "Data loaded from CSV:\n",
      " Empty DataFrame\n",
      "Columns: [this is data.csv file ]\n",
      "Index: []\n",
      "Data loaded from Excel:\n",
      "    Unnamed: 0  Unnamed: 1  Unnamed: 2  Unnamed: 3 Unnamed: 4\n",
      "0         NaN         NaN         NaN         NaN        NaN\n",
      "1         NaN         NaN         NaN         NaN        NaN\n",
      "2         NaN         NaN         NaN         NaN        NaN\n",
      "3         NaN         NaN         NaN         NaN        NaN\n",
      "4         NaN         NaN         NaN         NaN        NaN\n",
      "Data loaded from JSON:\n",
      "        name  age      city  isStudent  skills\n",
      "0  John Doe   30  New York      False  Python\n",
      "1  John Doe   30  New York      False    Java\n",
      "2  John Doe   30  New York      False     SQL\n",
      "Data loaded from URL:\n",
      "   Month   \"1958\"   \"1959\"   \"1960\"\n",
      "0   JAN      340      360      417\n",
      "1   FEB      318      342      391\n",
      "2   MAR      362      406      419\n",
      "3   APR      348      396      461\n",
      "4   MAY      363      420      472\n",
      "Data loaded from text file:\n",
      "        hfguhdjvnjhfdvn\n",
      "0  this is a text file\n"
     ]
    }
   ],
   "source": [
    "import pandas as pd\n",
    "# Example 1: Load data from a CSV file\n",
    "df_csv = pd.read_csv('data.csv')\n",
    "print(\"Data loaded from CSV:\\n\", df_csv.head())\n",
    "\n",
    "# Example 2: Load data from an Excel file\n",
    "df_excel = pd.read_excel('data.xlsx', sheet_name='Sheet1')\n",
    "print(\"Data loaded from Excel:\\n\", df_excel.head())\n",
    "\n",
    "# Example 3: Load data from a JSON file\n",
    "df_json = pd.read_json('data.json')\n",
    "print(\"Data loaded from JSON:\\n\", df_json.head())\n",
    "\n",
    "# Example 4: Load data from a URL (CSV format)\n",
    "url = 'https://people.sc.fsu.edu/~jburkardt/data/csv/airtravel.csv'\n",
    "df_url = pd.read_csv(url)\n",
    "print(\"Data loaded from URL:\\n\", df_url.head())\n",
    "\n",
    "# Example 5: Load data from a text file with custom delimiters\n",
    "df_txt = pd.read_csv('data.txt', delimiter='\\t')\n",
    "print(\"Data loaded from text file:\\n\", df_txt.head())\n"
   ]
  },
  {
   "cell_type": "code",
   "execution_count": 3,
   "id": "94d9daee-e91d-4587-bc9e-2bc3443965cf",
   "metadata": {},
   "outputs": [
    {
     "name": "stdout",
     "output_type": "stream",
     "text": [
      "C:\\Users\\bharz\n"
     ]
    }
   ],
   "source": [
    "# just to check the file location of the jupiter notebook \n",
    "import os\n",
    "print(os.getcwd())"
   ]
  },
  {
   "cell_type": "code",
   "execution_count": 14,
   "id": "e77fbec9-1eff-441b-867b-cfe2081e867d",
   "metadata": {},
   "outputs": [
    {
     "name": "stdout",
     "output_type": "stream",
     "text": [
      "DataFrame with missing values handled:\n",
      "      A    B\n",
      "0  1.0  4.0\n",
      "1  2.0  0.0\n",
      "2  0.0  6.0\n",
      "Dropped missing values:\n",
      "      A    B\n",
      "0  1.0  4.0\n",
      "Renamed columns:\n",
      "    Column_A  Column_B\n",
      "0       1.0       4.0\n",
      "1       2.0       NaN\n",
      "2       NaN       6.0\n",
      "Filtered DataFrame:\n",
      "       Name  Age\n",
      "2  Charlie   35\n",
      "DataFrame with new column:\n",
      "       Name  Age  Salary\n",
      "0    Alice   25   50000\n",
      "1      Bob   30   60000\n",
      "2  Charlie   35   70000\n"
     ]
    }
   ],
   "source": [
    "# Example 1: Handling missing values\n",
    "df = pd.DataFrame({'A': [1, 2, None], 'B': [4, None, 6]})\n",
    "df_cleaned = df.fillna(0)  # Replace missing values with 0\n",
    "print(\"DataFrame with missing values handled:\\n\", df_cleaned)\n",
    "\n",
    "# Example 2: Drop missing values\n",
    "df_dropped = df.dropna()  # Drop rows with missing values\n",
    "print(\"Dropped missing values:\\n\", df_dropped)\n",
    "\n",
    "# Example 3: Renaming columns\n",
    "df_renamed = df.rename(columns={'A': 'Column_A', 'B': 'Column_B'})\n",
    "print(\"Renamed columns:\\n\", df_renamed)\n",
    "\n",
    "# Example 4: Filtering rows based on a condition\n",
    "df = pd.DataFrame({'Name': ['Alice', 'Bob', 'Charlie'], 'Age': [25, 30, 35]})\n",
    "df_filtered = df[df['Age'] > 30]\n",
    "print(\"Filtered DataFrame:\\n\", df_filtered)\n",
    "\n",
    "# Example 5: Adding a new column\n",
    "df['Salary'] = [50000, 60000, 70000]\n",
    "print(\"DataFrame with new column:\\n\", df)\n",
    "\n"
   ]
  },
  {
   "cell_type": "code",
   "execution_count": 39,
   "id": "285f1662-bcae-4d13-8edc-77a61eeb5798",
   "metadata": {},
   "outputs": [
    {
     "name": "stdout",
     "output_type": "stream",
     "text": [
      "Descriptive statistics:\n",
      "             Age        Salary\n",
      "count   5.00000      5.000000\n",
      "mean   35.60000  61000.000000\n",
      "std    11.39298  14317.821063\n",
      "min    23.00000  45000.000000\n",
      "25%    29.00000  50000.000000\n",
      "50%    31.00000  60000.000000\n",
      "75%    45.00000  70000.000000\n",
      "max    50.00000  80000.000000\n"
     ]
    }
   ],
   "source": [
    "import matplotlib.pyplot as plt\n",
    "\n",
    "# Example 1: Descriptive statistics\n",
    "df = pd.DataFrame({'Age': [23, 45, 31, 50, 29], 'Salary': [50000, 70000, 60000, 80000, 45000]})\n",
    "print(\"Descriptive statistics:\\n\", df.describe())\n",
    "\n",
    "\n"
   ]
  },
  {
   "cell_type": "code",
   "execution_count": null,
   "id": "1b026c87-1b0f-4473-bb9a-5e510958a236",
   "metadata": {},
   "outputs": [],
   "source": []
  },
  {
   "cell_type": "code",
   "execution_count": 40,
   "id": "d02eeadc-20c9-4583-8f65-a2e1eab2196e",
   "metadata": {},
   "outputs": [
    {
     "data": {
      "image/png": "[encoded data removed]",
      "text/plain": [
       "<Figure size 640x480 with 1 Axes>"
      ]
     },
     "metadata": {},
     "output_type": "display_data"
    }
   ],
   "source": [
    "# Example 3: Visualizing data with a bar plot\n",
    "df.plot(kind='bar', x='Age', y='Salary')\n",
    "plt.title('Age vs Salary')\n",
    "plt.show()"
   ]
  },
  {
   "cell_type": "code",
   "execution_count": 41,
   "id": "49572b2d-aba8-4bc0-898f-34d8ea1567c6",
   "metadata": {},
   "outputs": [
    {
     "data": {
      "image/png": "[encoded data removed]",
      "text/plain": [
       "<Figure size 640x480 with 1 Axes>"
      ]
     },
     "metadata": {},
     "output_type": "display_data"
    }
   ],
   "source": [
    "# Example 4: Visualizing data with a line plot\n",
    "df.plot(kind='line', x='Age', y='Salary')\n",
    "plt.title('Age vs Salary Line Plot')\n",
    "plt.show()"
   ]
  },
  {
   "cell_type": "code",
   "execution_count": 42,
   "id": "dfae4768-6a9a-4eac-a72c-02e209ca5849",
   "metadata": {},
   "outputs": [
    {
     "data": {
      "image/png": "[encoded data removed]",
      "text/plain": [
       "<Figure size 640x480 with 1 Axes>"
      ]
     },
     "metadata": {},
     "output_type": "display_data"
    }
   ],
   "source": [
    "# Example 5: Plotting a histogram\n",
    "df['Age'].plot(kind='hist', bins=5)\n",
    "plt.title('Age Distribution')\n",
    "plt.show()\n"
   ]
  },
  {
   "cell_type": "code",
   "execution_count": 35,
   "id": "7bf5e437-4d59-4963-9a3b-838952c4d5de",
   "metadata": {},
   "outputs": [
    {
     "name": "stdout",
     "output_type": "stream",
     "text": [
      "Pivot Table:\n",
      " Region   North  South\n",
      "Product              \n",
      "A        250.0    NaN\n",
      "B          NaN  450.0\n"
     ]
    }
   ],
   "source": [
    "# Example 1: Creating a pivot table\n",
    "df = pd.DataFrame({'Product': ['A', 'B', 'A', 'B'], 'Sales': [100, 200, 150, 250], 'Region': ['North', 'South', 'North', 'South']})\n",
    "pivot_table = pd.pivot_table(df, values='Sales', index='Product', columns='Region', aggfunc='sum')\n",
    "print(\"Pivot Table:\\n\", pivot_table)\n",
    "\n",
    "\n"
   ]
  },
  {
   "cell_type": "code",
   "execution_count": 34,
   "id": "6ff5c7bf-248e-467e-b959-c054627aab2f",
   "metadata": {},
   "outputs": [
    {
     "name": "stdout",
     "output_type": "stream",
     "text": [
      "Grouped DataFrame:\n",
      "                 Sales\n",
      "Product Region       \n",
      "A       North     250\n",
      "B       South     450\n"
     ]
    }
   ],
   "source": [
    "\n",
    "# Example 2: Grouping data by multiple columns and calculating sum\n",
    "df_grouped = df.groupby(['Product', 'Region']).sum()\n",
    "print(\"Grouped DataFrame:\\n\", df_grouped)\n",
    "\n"
   ]
  },
  {
   "cell_type": "code",
   "execution_count": 36,
   "id": "63ab2189-081e-48cf-8f9a-4f88ffe926f5",
   "metadata": {},
   "outputs": [
    {
     "name": "stdout",
     "output_type": "stream",
     "text": [
      "Grouped by Product (mean):\n",
      "          Sales\n",
      "Product       \n",
      "A        125.0\n",
      "B        225.0\n"
     ]
    }
   ],
   "source": [
    "\n",
    "df_grouped_mean = df.groupby('Product').mean(numeric_only=True)\n",
    "print(\"Grouped by Product (mean):\\n\", df_grouped_mean)\n",
    "\n"
   ]
  },
  {
   "cell_type": "code",
   "execution_count": 37,
   "id": "b4a59a25-1aa7-4c76-85db-c2d8d87eef7e",
   "metadata": {},
   "outputs": [
    {
     "name": "stdout",
     "output_type": "stream",
     "text": [
      "Count of occurrences by Product:\n",
      " Product\n",
      "A    2\n",
      "B    2\n",
      "dtype: int64\n"
     ]
    }
   ],
   "source": [
    "\n",
    "# Example 5: Grouping data by one column and counting occurrences\n",
    "df_count = df.groupby('Product').size()\n",
    "print(\"Count of occurrences by Product:\\n\", df_count)\n"
   ]
  },
  {
   "cell_type": "markdown",
   "id": "648c7031-c12b-4a8f-8512-bd59d22446e4",
   "metadata": {},
   "source": [
    "\n",
    "                                                                \n",
    "                                                                If Statements\n",
    "\n",
    "                                                                "
   ]
  },
  {
   "cell_type": "code",
   "execution_count": 18,
   "id": "b7b8a301-8458-4f51-b7b9-209c0c5e39ea",
   "metadata": {},
   "outputs": [
    {
     "name": "stdout",
     "output_type": "stream",
     "text": [
      "x is greater than 5\n",
      "x is less than or equal to 5\n",
      "x is greater than 5 but less than or equal to 10\n",
      "Hello, Alice!\n",
      "Welcome, admin!\n"
     ]
    }
   ],
   "source": [
    "\t# Example 1: Basic if statement\n",
    "x = 10\n",
    "if x > 5:\n",
    "    print(\"x is greater than 5\")\n",
    "\n",
    "# Example 2: if-else statement\n",
    "x = 3\n",
    "if x > 5:\n",
    "    print(\"x is greater than 5\")\n",
    "else:\n",
    "    print(\"x is less than or equal to 5\")\n",
    "\n",
    "# Example 3: if-elif-else statement\n",
    "x = 7\n",
    "if x > 10:\n",
    "    print(\"x is greater than 10\")\n",
    "elif x > 5:\n",
    "    print(\"x is greater than 5 but less than or equal to 10\")\n",
    "else:\n",
    "    print(\"x is less than or equal to 5\")\n",
    "\n",
    "# Example 4: if statement with a string condition\n",
    "name = \"Alice\"\n",
    "if name == \"Alice\":\n",
    "    print(\"Hello, Alice!\")\n",
    "\n",
    "#Example 5 :  Login Status Check\n",
    "user_logged_in = False\n",
    "admin_logged_in = True\n",
    "\n",
    "if user_logged_in:\n",
    "    print(\"Welcome, user!\")\n",
    "elif admin_logged_in:\n",
    "    print(\"Welcome, admin!\")\n",
    "else:\n",
    "    print(\"Please log in.\")\n"
   ]
  },
  {
   "cell_type": "code",
   "execution_count": 19,
   "id": "d03a57a4-725b-46d1-8dae-bb7e7e47463f",
   "metadata": {},
   "outputs": [
    {
     "name": "stdout",
     "output_type": "stream",
     "text": [
      "Eligible for loan\n",
      "x is within the range 0-10\n",
      "It is not sunny today\n",
      "x is between 5 and 10 or equal to 15\n",
      "y is between 10 and 20\n"
     ]
    }
   ],
   "source": [
    "# Example 1: Multiple conditions with logical AND\n",
    "age = 25\n",
    "income = 40000\n",
    "if age > 18 and income > 30000:\n",
    "    print(\"Eligible for loan\")\n",
    "\n",
    "# Example 2: Multiple conditions with logical OR\n",
    "x = 5\n",
    "if x < 0 or x > 10:\n",
    "    print(\"x is outside the range 0-10\")\n",
    "else:\n",
    "    print(\"x is within the range 0-10\")\n",
    "\n",
    "# Example 3: Using not operator in condition\n",
    "is_sunny = False\n",
    "if not is_sunny:\n",
    "    print(\"It is not sunny today\")\n",
    "\n",
    "# Example 4: Combining multiple logical operators\n",
    "x = 7\n",
    "if (x > 5 and x < 10) or x == 15:\n",
    "    print(\"x is between 5 and 10 or equal to 15\")\n",
    "\n",
    "# Example 5: Complex condition using comparison chaining\n",
    "y = 15\n",
    "if 10 < y < 20:\n",
    "    print(\"y is between 10 and 20\")\n",
    "\n",
    "\n",
    "\n"
   ]
  },
  {
   "cell_type": "code",
   "execution_count": 20,
   "id": "6f9239d9-4712-4a57-aac2-9f45ca9758d4",
   "metadata": {},
   "outputs": [
    {
     "name": "stdout",
     "output_type": "stream",
     "text": [
      "x is greater than 10\n",
      "x is also greater than 15\n",
      "You can legally drink alcohol\n",
      "x is greater than 10\n",
      "x is also even\n",
      "num is greater than or equal to 30\n",
      "num is exactly 50\n",
      "You passed with distinction\n"
     ]
    }
   ],
   "source": [
    "\t# Example 1: Nested if statement (checking multiple conditions)\n",
    "x = 20\n",
    "if x > 10:\n",
    "    print(\"x is greater than 10\")\n",
    "    if x > 15:\n",
    "        print(\"x is also greater than 15\")\n",
    "    else:\n",
    "        print(\"x is less than or equal to 15\")\n",
    "\n",
    "# Example 2: Nested if-else statement (evaluating within another condition)\n",
    "age = 25\n",
    "if age > 18:\n",
    "    if age >= 21:\n",
    "        print(\"You can legally drink alcohol\")\n",
    "    else:\n",
    "        print(\"You are an adult but can't drink yet\")\n",
    "else:\n",
    "    print(\"You are not an adult\")\n",
    "\n",
    "# Example 3: Nested conditions with multiple logical operators\n",
    "x = 30\n",
    "if x > 10:\n",
    "    print(\"x is greater than 10\")\n",
    "    if x % 2 == 0:\n",
    "        print(\"x is also even\")\n",
    "\n",
    "# Example 4: Nested if within an elif block\n",
    "num = 50\n",
    "if num < 30:\n",
    "    print(\"num is less than 30\")\n",
    "elif num >= 30:\n",
    "    print(\"num is greater than or equal to 30\")\n",
    "    if num == 50:\n",
    "        print(\"num is exactly 50\")\n",
    "\n",
    "# Example 5: Deeply nested if conditions\n",
    "marks = 85\n",
    "if marks > 40:\n",
    "    if marks >= 60:\n",
    "        if marks >= 75:\n",
    "            print(\"You passed with distinction\")\n",
    "        else:\n",
    "            print(\"You passed with first class\")\n",
    "    else:\n",
    "        print(\"You passed\")\n",
    "else:\n",
    "    print(\"You failed\")\n"
   ]
  },
  {
   "cell_type": "code",
   "execution_count": null,
   "id": "919e7571-2fdb-4dac-9732-60a52b68fda0",
   "metadata": {},
   "outputs": [],
   "source": [
    "\n",
    "                                                                        \n",
    "                                                                        Loops\n",
    "\n"
   ]
  },
  {
   "cell_type": "code",
   "execution_count": 21,
   "id": "c1f333df-6e4e-469b-a93f-9bcd2e72dfea",
   "metadata": {},
   "outputs": [
    {
     "name": "stdout",
     "output_type": "stream",
     "text": [
      "apple\n",
      "banana\n",
      "cherry\n",
      "0\n",
      "1\n",
      "2\n",
      "3\n",
      "4\n",
      "h\n",
      "e\n",
      "l\n",
      "l\n",
      "o\n",
      "name: Alice\n",
      "age: 25\n",
      "Index: 0, Number: 10\n",
      "Index: 1, Number: 20\n",
      "Index: 2, Number: 30\n"
     ]
    }
   ],
   "source": [
    "# Example 1: Iterating over a list\n",
    "fruits = ['apple', 'banana', 'cherry']\n",
    "for fruit in fruits:\n",
    "    print(fruit)\n",
    "\n",
    "# Example 2: Iterating over a range of numbers\n",
    "for i in range(5):\n",
    "    print(i)\n",
    "\n",
    "# Example 3: Iterating over a string\n",
    "word = \"hello\"\n",
    "for letter in word:\n",
    "    print(letter)\n",
    "\n",
    "# Example 4: Iterating over a dictionary\n",
    "person = {'name': 'Alice', 'age': 25}\n",
    "for key, value in person.items():\n",
    "    print(f\"{key}: {value}\")\n",
    "\n",
    "# Example 5: Iterating over a list with index\n",
    "numbers = [10, 20, 30]\n",
    "for index, number in enumerate(numbers):\n",
    "    print(f\"Index: {index}, Number: {number}\")\n"
   ]
  },
  {
   "cell_type": "code",
   "execution_count": 22,
   "id": "39e4b573-dbbd-4f40-ad55-ff847369a211",
   "metadata": {},
   "outputs": [
    {
     "name": "stdout",
     "output_type": "stream",
     "text": [
      "0\n",
      "1\n",
      "2\n",
      "3\n",
      "4\n",
      "0\n",
      "1\n",
      "2\n"
     ]
    },
    {
     "name": "stdin",
     "output_type": "stream",
     "text": [
      "Type 'exit' to stop:  exit\n"
     ]
    },
    {
     "name": "stdout",
     "output_type": "stream",
     "text": [
      "5\n",
      "4\n",
      "3\n",
      "2\n",
      "1\n",
      "Balance: 100\n",
      "Balance: 80\n",
      "Balance: 60\n",
      "Balance: 40\n",
      "Balance: 20\n"
     ]
    }
   ],
   "source": [
    "# Example 1: Basic while loop\n",
    "count = 0\n",
    "while count < 5:\n",
    "    print(count)\n",
    "    count += 1\n",
    "\n",
    "# Example 2: While loop with a break condition\n",
    "x = 0\n",
    "while True:\n",
    "    print(x)\n",
    "    x += 1\n",
    "    if x == 3:\n",
    "        break\n",
    "\n",
    "# Example 3: Using a while loop to prompt user input\n",
    "user_input = ''\n",
    "while user_input != 'exit':\n",
    "    user_input = input(\"Type 'exit' to stop: \")\n",
    "\n",
    "# Example 4: Counting down with a while loop\n",
    "n = 5\n",
    "while n > 0:\n",
    "    print(n)\n",
    "    n -= 1\n",
    "\n",
    "# Example 5: While loop with a conditional check\n",
    "balance = 100\n",
    "while balance > 0:\n",
    "    print(f\"Balance: {balance}\")\n",
    "    balance -= 20\n",
    "\n"
   ]
  },
  {
   "cell_type": "code",
   "execution_count": 23,
   "id": "a9f560f3-07b3-4235-971f-e9aa17b85a77",
   "metadata": {},
   "outputs": [
    {
     "name": "stdout",
     "output_type": "stream",
     "text": [
      "i = 0, j = 0\n",
      "i = 0, j = 1\n",
      "i = 1, j = 0\n",
      "i = 1, j = 1\n",
      "i = 2, j = 0\n",
      "i = 2, j = 1\n",
      "1 x 1 = 1\n",
      "1 x 2 = 2\n",
      "1 x 3 = 3\n",
      "2 x 1 = 2\n",
      "2 x 2 = 4\n",
      "2 x 3 = 6\n",
      "3 x 1 = 3\n",
      "3 x 2 = 6\n",
      "3 x 3 = 9\n",
      "1\n",
      "2\n",
      "3\n",
      "4\n",
      "5\n",
      "6\n",
      "*\n",
      "**\n",
      "***\n",
      "****\n",
      "*****\n",
      "1 is equal to 1\n",
      "2 is equal to 2\n",
      "3 is equal to 3\n"
     ]
    }
   ],
   "source": [
    "# Example 1: Nested for loops\n",
    "for i in range(3):\n",
    "    for j in range(2):\n",
    "        print(f\"i = {i}, j = {j}\")\n",
    "\n",
    "# Example 2: Nested loops for multiplication table\n",
    "for i in range(1, 4):\n",
    "    for j in range(1, 4):\n",
    "        print(f\"{i} x {j} = {i * j}\")\n",
    "\n",
    "# Example 3: Nested loop with a list of lists\n",
    "matrix = [[1, 2], [3, 4], [5, 6]]\n",
    "for row in matrix:\n",
    "    for element in row:\n",
    "        print(element)\n",
    "\n",
    "# Example 4: Nested loop to print a triangle pattern\n",
    "n = 5\n",
    "for i in range(1, n + 1):\n",
    "    for j in range(i):\n",
    "        print('*', end=\"\")\n",
    "    print()\n",
    "\n",
    "# Example 5: Nested loop with if condition inside\n",
    "for i in range(1, 4):\n",
    "    for j in range(1, 4):\n",
    "        if i == j:\n",
    "            print(f\"{i} is equal to {j}\")\n",
    "\n"
   ]
  },
  {
   "cell_type": "code",
   "execution_count": 24,
   "id": "e4130192-fa87-4770-ad9e-63f637bedef8",
   "metadata": {},
   "outputs": [
    {
     "name": "stdout",
     "output_type": "stream",
     "text": [
      "0\n",
      "1\n",
      "2\n",
      "0\n",
      "1\n",
      "2\n",
      "4\n",
      "0\n",
      "1\n",
      "2\n",
      "1\n",
      "2\n",
      "4\n",
      "5\n",
      "i = 0, j = 0\n",
      "i = 0, j = 1\n",
      "i = 1, j = 0\n",
      "i = 1, j = 1\n",
      "i = 2, j = 0\n",
      "i = 2, j = 1\n",
      "i = 3, j = 0\n",
      "i = 3, j = 1\n",
      "i = 4, j = 0\n",
      "i = 4, j = 1\n"
     ]
    }
   ],
   "source": [
    "\t# Example 1: Break statement in a loop\n",
    "for i in range(5):\n",
    "    if i == 3:\n",
    "        break\n",
    "    print(i)\n",
    "\n",
    "# Example 2: Continue statement in a loop\n",
    "for i in range(5):\n",
    "    if i == 3:\n",
    "        continue\n",
    "    print(i)\n",
    "\n",
    "# Example 3: Break statement in a while loop\n",
    "n = 0\n",
    "while n < 5:\n",
    "    print(n)\n",
    "    if n == 2:\n",
    "        break\n",
    "    n += 1\n",
    "\n",
    "# Example 4: Continue statement in a while loop\n",
    "n = 0\n",
    "while n < 5:\n",
    "    n += 1\n",
    "    if n == 3:\n",
    "        continue\n",
    "    print(n)\n",
    "\n",
    "# Example 5: Nested loop with break statement\n",
    "for i in range(5):\n",
    "    for j in range(5):\n",
    "        if j == 2:\n",
    "            break\n",
    "        print(f\"i = {i}, j = {j}\")\n",
    "\n"
   ]
  },
  {
   "cell_type": "code",
   "execution_count": null,
   "id": "35df1c81-65b8-4a88-a3ee-09a4977f4eb9",
   "metadata": {},
   "outputs": [],
   "source": [
    "\n",
    "\n",
    "                                                    Lists, Tuples, Sets, Dictionaries\n",
    "\n"
   ]
  },
  {
   "cell_type": "code",
   "execution_count": null,
   "id": "e3e8e97e-512d-40ad-8815-0aed236fe32c",
   "metadata": {},
   "outputs": [],
   "source": [
    "\n",
    "\n",
    "                                                        Create and Manipulate Lists\n",
    "\n"
   ]
  },
  {
   "cell_type": "code",
   "execution_count": 25,
   "id": "10691fd6-bf52-41eb-80b2-e9d669f1316d",
   "metadata": {},
   "outputs": [
    {
     "name": "stdout",
     "output_type": "stream",
     "text": [
      "['apple', 'banana', 'cherry']\n",
      "['apple', 'banana', 'cherry', 'orange']\n",
      "['apple', 'cherry', 'orange']\n",
      "cherry\n",
      "['apple', 'cherry']\n",
      "['apple', 'mango', 'cherry', 'orange']\n"
     ]
    }
   ],
   "source": [
    "# Example 1: Create a list\n",
    "fruits = ['apple', 'banana', 'cherry']\n",
    "print(fruits)\n",
    "\n",
    "# Example 2: Add an element to the list\n",
    "fruits.append('orange')\n",
    "print(fruits)\n",
    "\n",
    "# Example 3: Remove an element from the list\n",
    "fruits.remove('banana')\n",
    "print(fruits)\n",
    "\n",
    "# Example 4: Indexing and slicing in lists\n",
    "print(fruits[1])  # Access the second element\n",
    "print(fruits[0:2])  # Slice first two elements\n",
    "\n",
    "# Example 5: Insert an element at a specific index\n",
    "fruits.insert(1, 'mango')\n",
    "print(fruits)\n"
   ]
  },
  {
   "cell_type": "code",
   "execution_count": null,
   "id": "42d15ba8-0c2f-4aa5-819d-9f97787d2d27",
   "metadata": {},
   "outputs": [],
   "source": [
    "\n",
    "\n",
    "                                                     Built-in Methods for Lists\n",
    "\n"
   ]
  },
  {
   "cell_type": "code",
   "execution_count": 26,
   "id": "532ec58c-1563-444b-98c8-d7f7f61e2bf0",
   "metadata": {},
   "outputs": [
    {
     "name": "stdout",
     "output_type": "stream",
     "text": [
      "['apple', 'cherry', 'mango', 'orange']\n",
      "['orange', 'mango', 'cherry', 'apple']\n",
      "apple\n",
      "['orange', 'mango', 'cherry']\n",
      "Number of 'apple' in the list: 0\n",
      "['orange', 'mango', 'cherry', 'pineapple', 'grapes']\n"
     ]
    }
   ],
   "source": [
    "\n",
    "\n",
    "# Example 1: Sort the list\n",
    "fruits.sort()\n",
    "print(fruits)\n",
    "\n",
    "# Example 2: Reverse the list\n",
    "fruits.reverse()\n",
    "print(fruits)\n",
    "\n",
    "# Example 3: Pop an element (removes the last item by default)\n",
    "popped_item = fruits.pop()\n",
    "print(popped_item)\n",
    "print(fruits)\n",
    "\n",
    "# Example 4: Count occurrences of an element\n",
    "count = fruits.count('apple')\n",
    "print(f\"Number of 'apple' in the list:\", count)\n",
    "\n",
    "# Example 5: Extend a list with another list\n",
    "more_fruits = ['pineapple', 'grapes']\n",
    "fruits.extend(more_fruits)\n",
    "print(fruits)\n",
    "\n"
   ]
  },
  {
   "cell_type": "code",
   "execution_count": null,
   "id": "6021a72f-5e3a-4742-950e-2142586aec81",
   "metadata": {},
   "outputs": [],
   "source": [
    "\n",
    "\n",
    "\n",
    "                                                         Create and Manipulate Tuples\n",
    "\n"
   ]
  },
  {
   "cell_type": "code",
   "execution_count": 27,
   "id": "e526bf60-71ed-4aa6-adb9-ca0c2ae2273b",
   "metadata": {},
   "outputs": [
    {
     "name": "stdout",
     "output_type": "stream",
     "text": [
      "(10, 20, 30)\n",
      "20\n",
      "(10, 20)\n",
      "(10, 20, 30, 40, 50)\n",
      "10 20 30\n"
     ]
    }
   ],
   "source": [
    "# Example 1: Create a tuple\n",
    "numbers = (10, 20, 30)\n",
    "print(numbers)\n",
    "\n",
    "# Example 2: Access elements in a tuple (indexing)\n",
    "print(numbers[1])\n",
    "\n",
    "# Example 3: Slicing a tuple\n",
    "print(numbers[:2])\n",
    "\n",
    "# Example 4: Concatenating tuples\n",
    "new_tuple = numbers + (40, 50)\n",
    "print(new_tuple)\n",
    "\n",
    "# Example 5: Unpacking tuples\n",
    "a, b, c = numbers\n",
    "print(a, b, c)\n",
    "\n"
   ]
  },
  {
   "cell_type": "code",
   "execution_count": null,
   "id": "d6129e94-8b72-4d31-950e-501ea1558370",
   "metadata": {},
   "outputs": [],
   "source": [
    "\n",
    "                                                    2. Built-in Methods for Tuples\n"
   ]
  },
  {
   "cell_type": "code",
   "execution_count": 28,
   "id": "77a58ca1-b4b5-4756-9fd6-6f556273f961",
   "metadata": {},
   "outputs": [
    {
     "name": "stdout",
     "output_type": "stream",
     "text": [
      "3\n",
      "1\n",
      "2\n",
      "2\n"
     ]
    }
   ],
   "source": [
    "# Example 1: Get the length of a tuple\n",
    "print(len(numbers))\n",
    "\n",
    "# Example 2: Count occurrences of an element\n",
    "print(numbers.count(20))\n",
    "\n",
    "# Example 3: Find the index of an element\n",
    "print(numbers.index(30))\n",
    "\n",
    "# Example 4: Nested tuple access\n",
    "nested_tuple = (1, (2, 3), 4)\n",
    "print(nested_tuple[1][0])\n",
    "\n",
    "# Example 5: Immutable nature of tuples (can't change values)\n",
    "# numbers[0] = 100  # This would throw an error, since tuples are immutable\n",
    "\n"
   ]
  },
  {
   "cell_type": "code",
   "execution_count": null,
   "id": "752086ef-7d3c-480e-acb4-3b16fd79618a",
   "metadata": {},
   "outputs": [],
   "source": [
    "\n",
    "\n",
    "                                                        Create and Manipulate Sets\n",
    "\n"
   ]
  },
  {
   "cell_type": "code",
   "execution_count": null,
   "id": "d8931b9a-632b-4d49-ad11-ee3305208980",
   "metadata": {},
   "outputs": [],
   "source": [
    "\n",
    "# Example 1: Create a set\n",
    "my_set = {1, 2, 3, 4}\n",
    "print(my_set)\n",
    "\n",
    "# Example 2: Add an element to the set\n",
    "my_set.add(5)\n",
    "print(my_set)\n",
    "\n",
    "# Example 3: Remove an element from the set\n",
    "my_set.remove(3)\n",
    "print(my_set)\n",
    "\n",
    "# Example 4: Check if an element is in the set\n",
    "print(2 in my_set)\n",
    "\n",
    "# Example 5: Set union and intersection\n",
    "set1 = {1, 2, 3}\n",
    "set2 = {3, 4, 5}\n",
    "print(\"Union:\", set1.union(set2))\n",
    "print(\"Intersection:\", set1.intersection(set2))\n",
    "\n"
   ]
  },
  {
   "cell_type": "code",
   "execution_count": null,
   "id": "6acca2a0-2a20-4e23-8994-45fafccc8eb7",
   "metadata": {},
   "outputs": [],
   "source": [
    "\n",
    "\n",
    "                                                 Built-in Methods for Sets\n",
    "\n"
   ]
  },
  {
   "cell_type": "code",
   "execution_count": null,
   "id": "194b3811-9629-4ce9-8c1d-85a93a0d95ec",
   "metadata": {},
   "outputs": [],
   "source": [
    "\n",
    "# Example 1: Difference between sets\n",
    "print(set1.difference(set2))  # Elements in set1 but not in set2\n",
    "\n",
    "# Example 2: Symmetric difference (elements in either set1 or set2, but not both)\n",
    "print(set1.symmetric_difference(set2))\n",
    "\n",
    "# Example 3: Check if one set is a subset of another\n",
    "print(set1.issubset({1, 2, 3, 4}))\n",
    "\n",
    "# Example 4: Discard an element (won't raise an error if the element is not found)\n",
    "my_set.discard(10)  # No error if 10 is not in the set\n",
    "print(my_set)\n",
    "\n",
    "# Example 5: Clear all elements in a set\n",
    "my_set.clear()\n",
    "print(my_set)  # Output: set()\n",
    "\n"
   ]
  },
  {
   "cell_type": "code",
   "execution_count": null,
   "id": "822dcd72-6739-460d-b6ed-4d62911da87d",
   "metadata": {},
   "outputs": [],
   "source": [
    "\n",
    "\n",
    "                                            Create and Manipulate Dictionaries\n",
    "\n"
   ]
  },
  {
   "cell_type": "code",
   "execution_count": null,
   "id": "482bc11e-7283-4ba6-b5d5-82142ef36b05",
   "metadata": {},
   "outputs": [],
   "source": [
    "\n",
    "# Example 1: Create a dictionary\n",
    "person = {'name': 'Alice', 'age': 25, 'city': 'New York'}\n",
    "print(person)\n",
    "\n",
    "# Example 2: Access values using keys\n",
    "print(person['name'])\n",
    "\n",
    "# Example 3: Add or update a key-value pair\n",
    "person['job'] = 'Engineer'\n",
    "print(person)\n",
    "\n",
    "# Example 4: Remove a key-value pair\n",
    "del person['age']\n",
    "print(person)\n",
    "\n",
    "# Example 5: Check if a key exists in a dictionary\n",
    "print('name' in person)\n",
    "\n"
   ]
  },
  {
   "cell_type": "code",
   "execution_count": null,
   "id": "d712e6df-7547-4127-9bcd-8c7a8a561572",
   "metadata": {},
   "outputs": [],
   "source": [
    "\n",
    "                                        \n",
    "                                                    2. Built-in Methods for Dictionaries\n",
    "\n"
   ]
  },
  {
   "cell_type": "code",
   "execution_count": null,
   "id": "d9190ed0-77b6-4e25-8fcc-6bb86c190b7f",
   "metadata": {},
   "outputs": [],
   "source": [
    "\n",
    "# Example 1: Get all keys in a dictionary\n",
    "print(person.keys())\n",
    "\n",
    "# Example 2: Get all values in a dictionary\n",
    "print(person.values())\n",
    "\n",
    "# Example 3: Get all key-value pairs as tuples\n",
    "print(person.items())\n",
    "\n",
    "# Example 4: Use get method to retrieve a value (with a default if key doesn't exist)\n",
    "age = person.get('age', 'Not available')\n",
    "print(age)\n",
    "\n",
    "# Example 5: Iterate over dictionary key-value pairs\n",
    "for key, value in person.items():\n",
    "    print(f\"{key}: {value}\")\n"
   ]
  },
  {
   "cell_type": "code",
   "execution_count": 29,
   "id": "67e36afa-6ebc-4244-a911-33577210cde6",
   "metadata": {},
   "outputs": [
    {
     "name": "stdout",
     "output_type": "stream",
     "text": [
      "b\n",
      "['b', 'c']\n",
      "['a', 'b', 'z', 'c', 'd', 'e']\n",
      "['a', 'z', 'd', 'e']\n",
      "b\n",
      "('b', 'c')\n",
      "('a', 'b', 'c', 'd', 'e')\n",
      "{1, 2, 3, 4}\n",
      "{1, 3, 4}\n",
      "Alice\n",
      "{'name': 'Alice', 'city': 'New York'}\n"
     ]
    }
   ],
   "source": [
    "#8.3 Perform operations like indexing, slicing, adding, removing \n",
    "Elements.\t\n",
    "\n",
    "#Lists\n",
    "# Indexing and Slicing\n",
    "my_list = ['a', 'b', 'c', 'd']\n",
    "print(my_list[1])  # Output: 'b' (indexing)\n",
    "print(my_list[1:3])  # Output: ['b', 'c'] (slicing)\n",
    "\n",
    "# Adding elements\n",
    "my_list.append('e')  # Adds 'e' to the end\n",
    "my_list.insert(2, 'z')  # Inserts 'z' at index 2\n",
    "print(my_list)  # ['a', 'b', 'z', 'c', 'd', 'e']\n",
    "\n",
    "# Removing elements\n",
    "my_list.remove('b')  # Removes 'b'\n",
    "my_list.pop(2)  # Removes element at index 2 ('z')\n",
    "print(my_list)  # ['a', 'c', 'd', 'e']\n",
    "\n",
    "#Tuples\n",
    "# Indexing and Slicing\n",
    "my_tuple = ('a', 'b', 'c', 'd')\n",
    "print(my_tuple[1])  # Output: 'b' (indexing)\n",
    "print(my_tuple[1:3])  # Output: ('b', 'c') (slicing)\n",
    "\n",
    "# Tuples are immutable, so you cannot add or remove elements directly\n",
    "# If you need to modify a tuple, you can convert it to a list first:\n",
    "temp_list = list(my_tuple)\n",
    "temp_list.append('e')\n",
    "my_tuple = tuple(temp_list)\n",
    "print(my_tuple)  # Output: ('a', 'b', 'c', 'd', 'e')\n",
    "\n",
    "#Sets\n",
    "# Adding elements\n",
    "my_set = {1, 2, 3}\n",
    "my_set.add(4)  # Adds 4 to the set\n",
    "print(my_set)  # Output: {1, 2, 3, 4}\n",
    "\n",
    "# Removing elements\n",
    "my_set.remove(2)  # Removes 2 from the set\n",
    "print(my_set)  # Output: {1, 3, 4}\n",
    "\n",
    "# No indexing or slicing since sets are unordered\n",
    "\n",
    "#Dictionaries\n",
    "# Adding and Accessing elements\n",
    "my_dict = {'name': 'Alice', 'age': 25}\n",
    "my_dict['city'] = 'New York'  # Adding a new key-value pair\n",
    "print(my_dict['name'])  # Accessing the value by key 'name' -> Output: 'Alice'\n",
    "\n",
    "# Removing elements\n",
    "del my_dict['age']  # Removes the key 'age'\n",
    "print(my_dict)  # Output: {'name': 'Alice', 'city': 'New York'}\n",
    "\n",
    "# No indexing or slicing since dictionaries use keys for access\n",
    "\n"
   ]
  },
  {
   "cell_type": "code",
   "execution_count": 30,
   "id": "8461c380-0853-46bb-abf8-c63a9b57770e",
   "metadata": {},
   "outputs": [
    {
     "name": "stdout",
     "output_type": "stream",
     "text": [
      "[1, 2, 3, 4, 5]\n",
      "[1, 2, 3, 4, 5, 6, 7]\n",
      "7\n",
      "[1, 2, 3, 4, 5, 6]\n",
      "[1, 2, 3, 4, 5, 6]\n",
      "[6, 5, 4, 3, 2, 1]\n",
      "2\n",
      "2\n",
      "{1, 2, 3, 4, 5}\n",
      "{1, 3, 4, 5}\n",
      "{1, 2, 3, 4, 5}\n",
      "{3}\n",
      "{1, 2}\n",
      "dict_keys(['name', 'age'])\n",
      "dict_values(['Alice', 25])\n",
      "dict_items([('name', 'Alice'), ('age', 25)])\n",
      "Alice\n",
      "Not Found\n",
      "{'name': 'Alice', 'age': 25, 'city': 'New York'}\n"
     ]
    }
   ],
   "source": [
    "#8.4 Explore built-in methods for each data structure.\n",
    "#Lists\n",
    "my_list = [1, 2, 3, 4]\n",
    "\n",
    "# append(): Adds an element to the end of the list\n",
    "my_list.append(5)\n",
    "print(my_list)  # Output: [1, 2, 3, 4, 5]\n",
    "\n",
    "# extend(): Extend the list by appending elements from another list\n",
    "my_list.extend([6, 7])\n",
    "print(my_list)  # Output: [1, 2, 3, 4, 5, 6, 7]\n",
    "\n",
    "# pop(): Removes and returns the last element (or the element at the specified index)\n",
    "removed_element = my_list.pop()\n",
    "print(removed_element)  # Output: 7\n",
    "print(my_list)  # Output: [1, 2, 3, 4, 5, 6]\n",
    "\n",
    "# sort(): Sorts the list in ascending order\n",
    "my_list.sort()\n",
    "print(my_list)  # Output: [1, 2, 3, 4, 5, 6]\n",
    "\n",
    "# reverse(): Reverses the order of the list\n",
    "my_list.reverse()\n",
    "print(my_list)  # Output: [6, 5, 4, 3, 2, 1]\n",
    "\n",
    "#Tuples\n",
    "my_tuple = (1, 2, 3, 2, 4)\n",
    "\n",
    "# count(): Counts occurrences of an element\n",
    "print(my_tuple.count(2))  # Output: 2\n",
    "\n",
    "# index(): Returns the index of the first occurrence of an element\n",
    "print(my_tuple.index(3))  # Output: 2\n",
    "\n",
    "# Tuples have fewer methods since they are immutable, unlike lists\n",
    "\n",
    "#Sets\n",
    "my_set = {1, 2, 3, 4}\n",
    "\n",
    "# add(): Adds an element to the set\n",
    "my_set.add(5)\n",
    "print(my_set)  # Output: {1, 2, 3, 4, 5}\n",
    "\n",
    "# remove(): Removes an element from the set (raises an error if not found)\n",
    "my_set.remove(2)\n",
    "print(my_set)  # Output: {1, 3, 4, 5}\n",
    "\n",
    "# union(): Returns the union of two sets\n",
    "set1 = {1, 2, 3}\n",
    "set2 = {3, 4, 5}\n",
    "print(set1.union(set2))  # Output: {1, 2, 3, 4, 5}\n",
    "\n",
    "# intersection(): Returns the intersection of two sets\n",
    "print(set1.intersection(set2))  # Output: {3}\n",
    "\n",
    "# difference(): Returns the difference between two sets\n",
    "print(set1.difference(set2))  # Output: {1, 2}\n",
    "\n",
    "#Dictionaries\n",
    "my_dict = {'name': 'Alice', 'age': 25}\n",
    "\n",
    "# keys(): Returns all keys in the dictionary\n",
    "print(my_dict.keys())  # Output: dict_keys(['name', 'age'])\n",
    "\n",
    "# values(): Returns all values in the dictionary\n",
    "print(my_dict.values())  # Output: dict_values(['Alice', 25])\n",
    "\n",
    "# items(): Returns all key-value pairs in the dictionary\n",
    "print(my_dict.items())  # Output: dict_items([('name', 'Alice'), ('age', 25)])\n",
    "\n",
    "# get(): Returns the value for a key (returns None if key is not found)\n",
    "print(my_dict.get('name'))  # Output: 'Alice'\n",
    "print(my_dict.get('city', 'Not Found'))  # Output: 'Not Found'\n",
    "\n",
    "# update(): Updates the dictionary with another dictionary or key-value pairs\n",
    "my_dict.update({'city': 'New York'})\n",
    "print(my_dict)  # Output: {'name': 'Alice', 'age': 25, 'city': 'New York'}\n"
   ]
  },
  {
   "cell_type": "code",
   "execution_count": null,
   "id": "72d49282-742b-44e3-86a2-99dd2d075d80",
   "metadata": {},
   "outputs": [],
   "source": [
    "\n",
    "\n",
    "                                                                Operators\n",
    "\n"
   ]
  },
  {
   "cell_type": "code",
   "execution_count": 32,
   "id": "6bf56c36-a8e9-46c0-b2d5-da1de22987cc",
   "metadata": {},
   "outputs": [
    {
     "name": "stdout",
     "output_type": "stream",
     "text": [
      "x and y: False\n",
      "x or y: True\n",
      "not x: False\n"
     ]
    }
   ],
   "source": [
    "x = True\n",
    "y = False\n",
    "print(\"x and y:\", x and y)  \n",
    "print(\"x or y:\", x or y)\n",
    "print(\"not x:\", not x)  \t"
   ]
  },
  {
   "cell_type": "code",
   "execution_count": 33,
   "id": "23344f16-6c58-4898-a929-09098c575abf",
   "metadata": {},
   "outputs": [
    {
     "name": "stdout",
     "output_type": "stream",
     "text": [
      "After +=: 8\n",
      "After *=: 16\n"
     ]
    }
   ],
   "source": [
    "a = 5\n",
    "a += 3  # equivalent to a = a + 3\n",
    "print(\"After +=:\", a)  \n",
    " \n",
    "a *= 2  # equivalent to a = a * 2\n",
    "print(\"After *=:\", a)  "
   ]
  },
  {
   "cell_type": "code",
   "execution_count": 36,
   "id": "0bdd18db-fcdc-4454-9cd9-f06bb8157460",
   "metadata": {},
   "outputs": [
    {
     "name": "stdout",
     "output_type": "stream",
     "text": [
      "32\n",
      "20\n",
      "True\n",
      "14\n",
      "20\n"
     ]
    }
   ],
   "source": [
    "#Examples of Operator Precedence:\n",
    "# Example 1: Exponentiation has higher precedence than multiplication\n",
    "result = 2 ** 3 * 4\n",
    "print(result) \n",
    " \n",
    "# Example 2: Parentheses have the highest precedence\n",
    "result = (2 + 3) * 4\n",
    "print(result) \n",
    " \n",
    "# Example 3: Logical operators and comparison\n",
    "result = (5 > 3) and (2 < 4) or not (3 == 3)\n",
    "print(result) \n",
    "#Using Parentheses to Override Precedence:\n",
    "#You can use parentheses to explicitly specify the order of operations, overriding the default precedence.\n",
    "result = 2 + 3 * 4  \n",
    "print(result)  \n",
    " \n",
    "result = (2 + 3) * 4  \n",
    "print(result)  \n"
   ]
  },
  {
   "cell_type": "code",
   "execution_count": 38,
   "id": "0dfda5dc-04b9-4bab-8930-58ea3829cc0a",
   "metadata": {},
   "outputs": [
    {
     "name": "stdout",
     "output_type": "stream",
     "text": [
      "30\n",
      "True\n",
      "Modulo: 1\n",
      "Exponentiation: 49\n",
      "True\n",
      "False\n",
      "False\n",
      "True\n",
      "AND: False\n",
      "OR: True\n",
      "NOT: False\n"
     ]
    }
   ],
   "source": [
    "# Apply Operators in Expressions and Calculations\n",
    "# Example 1: Combining arithmetic and assignment operators\n",
    "x = 10\n",
    "x += 5  # equivalent to x = x + 5\n",
    "x *= 2  # equivalent to x = x * 2\n",
    "print(x)  \n",
    " \n",
    "# Example 2: Applying logical and comparison operators\n",
    "age = 20\n",
    "income = 50000\n",
    " \n",
    "is_eligible = (age > 18) and (income > 30000)\n",
    "print(is_eligible)  \n",
    " \n",
    "# Example 3:Modulo and Exponentiation Operators\n",
    "x = 7\n",
    "y = 2\n",
    "\n",
    "# Modulo (Remainder)\n",
    "result_mod = x % y\n",
    "# Exponentiation\n",
    "result_exp = x ** y\n",
    "print(\"Modulo:\", result_mod)\n",
    "print(\"Exponentiation:\", result_exp)\n",
    "\n",
    "\n",
    "# Example 4:Comparison Operators\n",
    "\n",
    "a = 15\n",
    "b = 10\n",
    "\n",
    "# Greater than\n",
    "print(a > b)   \n",
    "# Less than\n",
    "print(a < b)   \n",
    "# Equal to\n",
    "print(a == b)  \n",
    "# Not equal to\n",
    "print(a != b)  \n",
    "\n",
    "# Example 5: Logical Operators\n",
    "x = True\n",
    "y = False\n",
    "\n",
    "# AND operator\n",
    "result_and = x and y\n",
    "# OR operator\n",
    "result_or = x or y\n",
    "# NOT operator\n",
    "result_not = not x\n",
    "\n",
    "print(\"AND:\", result_and)   \n",
    "print(\"OR:\", result_or)     \n",
    "print(\"NOT:\", result_not)   \n",
    "\n",
    " \n"
   ]
  },
  {
   "cell_type": "markdown",
   "id": "ff20aaa4-6ae4-4e12-a3bf-599bb3ef5865",
   "metadata": {},
   "source": [
    "\n",
    "\n",
    "                                                        Reading CSV files\n",
    "\n"
   ]
  },
  {
   "cell_type": "code",
   "execution_count": 7,
   "id": "b61b6a2b-6666-4a1b-9e21-ac17e1aa704e",
   "metadata": {},
   "outputs": [
    {
     "name": "stdout",
     "output_type": "stream",
     "text": [
      "Empty DataFrame\n",
      "Columns: [data1.csv  file]\n",
      "Index: []\n",
      "           A   B   C\n",
      "0  data2.csv NaN NaN\n",
      "   Index   Height(Inches)\"   \"Weight(Pounds)\"\n",
      "0      1             65.78             112.99\n",
      "1      2             71.52             136.49\n",
      "2      3             69.40             153.03\n",
      "3      4             68.22             142.34\n",
      "4      5             67.79             144.30\n",
      "Empty DataFrame\n",
      "Columns: []\n",
      "Index: []\n",
      "Empty DataFrame\n",
      "Columns: [data4.csv]\n",
      "Index: []\n"
     ]
    }
   ],
   "source": [
    "import pandas as pd\n",
    "\n",
    "# Example 1: Basic CSV reading\n",
    "df1 = pd.read_csv('data1.csv')\n",
    "print(df1.head())\n",
    "\n",
    "# Example 2: Reading a CSV file with specific column names\n",
    "df2 = pd.read_csv('data2.csv', names=['A', 'B', 'C'])\n",
    "print(df2.head())\n",
    "\n",
    "\n",
    "# Example 3: Reading a CSV from a URL\n",
    "url = 'https://people.sc.fsu.edu/~jburkardt/data/csv/hw_200.csv'\n",
    "df3 = pd.read_csv(url)\n",
    "print(df3.head())\n",
    "\n",
    "# Example 4: Reading a CSV with index column\n",
    "df4 = pd.read_csv('data3.csv', index_col=0)  # Setting the first column as the index\n",
    "print(df4.head())\n",
    "\n",
    "# Example 5: Reading a CSV with specific data types\n",
    "df5 = pd.read_csv('data4.csv', dtype={'A': int, 'B': float})\n",
    "print(df5.head())\n"
   ]
  },
  {
   "cell_type": "code",
   "execution_count": 20,
   "id": "4435352e-3425-4dce-ac70-351b4d9c4e52",
   "metadata": {},
   "outputs": [
    {
     "name": "stdout",
     "output_type": "stream",
     "text": [
      "Empty DataFrame\n",
      "Columns: [data1.csv  file]\n",
      "Index: []\n",
      "   43543    56   67\n",
      "0   6746  5456  564\n",
      "    col1  col3\n",
      "0  43535    54\n",
      "1  43543    67\n",
      "2   6746   564\n",
      "Empty DataFrame\n",
      "Columns: [data4.csv]\n",
      "Index: []\n",
      "Empty DataFrame\n",
      "Columns: [data4.csv]\n",
      "Index: []\n"
     ]
    }
   ],
   "source": [
    "#Explore Different CSV Reading Options and Parameters\n",
    "# Example 1: Reading a CSV with a different delimiter (semicolon-separated)\n",
    "df1 = pd.read_csv('data1.csv', delimiter=';')\n",
    "print(df1.head())\n",
    "\n",
    "# Example 2: Skipping a specific number of rows\n",
    "df2 = pd.read_csv('data2.csv', skiprows=2)  # Skip first 2 rows\n",
    "print(df2.head())\n",
    "\n",
    "# Example 3: Reading only specific columns\n",
    "df3 = pd.read_csv('data2.csv', usecols=['col1', 'col3'])\n",
    "print(df3.head())\n",
    "\n",
    "# Example 4: Reading CSV with custom NA values\n",
    "df4 = pd.read_csv('data4.csv', na_values=['N/A', 'missing', '-'])\n",
    "print(df4.head())\n",
    "\n",
    "# Example 5: Reading a large CSV file in chunks\n",
    "chunksize = 100\n",
    "for chunk in pd.read_csv('data5.csv', chunksize=chunksize):\n",
    "    print(chunk.head())\n"
   ]
  },
  {
   "cell_type": "code",
   "execution_count": 31,
   "id": "67261dee-192b-4be9-9edd-4d9839f27b9c",
   "metadata": {},
   "outputs": [
    {
     "name": "stdout",
     "output_type": "stream",
     "text": [
      "id         0\n",
      "month      0\n",
      "storeid    0\n",
      "passkey    0\n",
      "dtype: int64\n",
      "missing values\n",
      "   id month  storeid     passkey\n",
      "0   1   may    33334  5678976543\n",
      "1   2   jan    76879  4567899876\n",
      "2   3   feb    38768  8976576333\n",
      "3   4   dec    33445  2345565432\n",
      "4   5   oct    66543  2345667765\n",
      "dropping\n",
      "   id month  storeid     passkey\n",
      "0   1   may    33334  5678976543\n",
      "1   2   jan    76879  4567899876\n",
      "2   3   feb    38768  8976576333\n",
      "3   4   dec    33445  2345565432\n",
      "4   5   oct    66543  2345667765\n",
      "   id month  storeid     passkey\n",
      "0   1   may    33334  5678976543\n",
      "1   2   jan    76879  4567899876\n",
      "2   3   feb    38768  8976576333\n",
      "3   4   dec    33445  2345565432\n",
      "4   5   oct    66543  2345667765\n",
      "    col1   col2  col3\n",
      "0  43535  45345    54\n",
      "1  43543     56    67\n",
      "2   6746   5456   564\n"
     ]
    }
   ],
   "source": [
    "#Handle Missing Values and Data Cleaning\n",
    "\n",
    "# Example 1: Checking for missing values\n",
    "df1 = pd.read_csv('data4.csv')\n",
    "print(df1.isnull().sum())  # Checking how many missing values each column has\n",
    "\n",
    "# Example 2: Filling missing values with a specific value\n",
    "df2 = df1.fillna(0)  # Fill missing values with 0\n",
    "print('missing values')\n",
    "print(df2.head())\n",
    "\n",
    "\n",
    "# Example 3: Dropping rows with missing values\n",
    "df3 = df1.dropna()  # Drop rows with any missing values\n",
    "print('dropping')\n",
    "print(df3.head())\n",
    "\n",
    "# Example 4: Replacing missing values with the mean of a column\n",
    "df4 = df1.copy()\n",
    "df4['storeid'] = df4['storeid'].fillna(df4['storeid'].mean())\n",
    "print(df4.head())\n",
    "\n",
    "# Example 5: Removing duplicate rows\n",
    "df5 = pd.read_csv('data2.csv')\n",
    "df5_cleaned = df5.drop_duplicates()\n",
    "print(df5_cleaned.head())\n"
   ]
  },
  {
   "cell_type": "markdown",
   "id": "69c20845-c56f-4b1c-b880-ddd63ea7a2fd",
   "metadata": {},
   "source": [
    "\n",
    "\n",
    "                                                         Python String Methods\n",
    "\n",
    "                                                         "
   ]
  },
  {
   "cell_type": "code",
   "execution_count": 42,
   "id": "0db3eaab-4047-4cc9-a371-6821824fe6eb",
   "metadata": {},
   "outputs": [
    {
     "name": "stdout",
     "output_type": "stream",
     "text": [
      "Hello, Python!\n",
      "Python is awesome\n",
      "3\n",
      "True\n",
      "1\n"
     ]
    }
   ],
   "source": [
    "#Manipulate Strings Using Various Built-in Methods\n",
    "\n",
    "# Example 1: Replace a substring in a string\n",
    "text = \"Hello, World!\"\n",
    "new_text = text.replace(\"World\", \"Python\")\n",
    "print(new_text)  # Output: Hello, Python!\n",
    "\n",
    "# Example 2: Join a list of strings into a single string\n",
    "words = ['Python', 'is', 'awesome']\n",
    "sentence = ' '.join(words)\n",
    "print(sentence)  # Output: Python is awesome\n",
    "\n",
    "# Example 3: Counting occurrences of a substring\n",
    "text = \"banana\"\n",
    "count = text.count('a')\n",
    "print(count)  # Output: 3\n",
    "\n",
    "# Example 4: Checking if a string starts with a specific substring\n",
    "print(text.startswith('ban'))  # Output: True\n",
    "\n",
    "# Example 5: Finding the position of a substring\n",
    "position = text.find('ana')\n",
    "print(position)  # Output: 1\n"
   ]
  },
  {
   "cell_type": "code",
   "execution_count": 43,
   "id": "cc3caaf5-44ed-4018-908c-3163f47d5a24",
   "metadata": {},
   "outputs": [
    {
     "name": "stdout",
     "output_type": "stream",
     "text": [
      "Hello World\n",
      "Python\n",
      "True\n",
      "programming\n",
      "Pto rgamn\n"
     ]
    }
   ],
   "source": [
    "#Perform Operations Like Concatenation, Slicing, and Finding Substrings\n",
    "\n",
    "# Example 1: Concatenate two strings\n",
    "str1 = \"Hello\"\n",
    "str2 = \"World\"\n",
    "result = str1 + \" \" + str2\n",
    "print(result)  # Output: Hello World\n",
    "\n",
    "# Example 2: Slice a string\n",
    "text = \"Python programming\"\n",
    "sliced_text = text[0:6]  # Extract 'Python'\n",
    "print(sliced_text)  # Output: Python\n",
    "\n",
    "# Example 3: Find if a substring exists\n",
    "print(\"programming\" in text)  # Output: True\n",
    "\n",
    "# Example 4: Get a substring from the end\n",
    "last_word = text[-11:]\n",
    "print(last_word)  # Output: programming\n",
    "\n",
    "# Example 5: Extract every second character from a string\n",
    "every_second_char = text[::2]\n",
    "print(every_second_char)  # Output: Pto rgamn\n",
    "\n"
   ]
  },
  {
   "cell_type": "code",
   "execution_count": 44,
   "id": "93b8f97d-3bcb-422d-9e25-de53fc943957",
   "metadata": {},
   "outputs": [
    {
     "name": "stdout",
     "output_type": "stream",
     "text": [
      "HELLO WORLD\n",
      "hello world\n",
      "Hello World\n",
      "HELLO WORLD\n",
      "Hello world\n"
     ]
    }
   ],
   "source": [
    "#Convert Strings to Uppercase, Lowercase, and Title Case\n",
    "\n",
    "# Example 1: Convert to uppercase\n",
    "text = \"hello world\"\n",
    "uppercase_text = text.upper()\n",
    "print(uppercase_text)  # Output: HELLO WORLD\n",
    "\n",
    "# Example 2: Convert to lowercase\n",
    "lowercase_text = text.lower()\n",
    "print(lowercase_text)  # Output: hello world\n",
    "\n",
    "# Example 3: Convert to title case\n",
    "title_text = text.title()\n",
    "print(title_text)  # Output: Hello World\n",
    "\n",
    "# Example 4: Swap case of a string (convert uppercase to lowercase and vice versa)\n",
    "swapped_case = text.swapcase()\n",
    "print(swapped_case)  # Output: HELLO WORLD\n",
    "\n",
    "# Example 5: Capitalize only the first letter of the string\n",
    "capitalized_text = text.capitalize()\n",
    "print(capitalized_text)  # Output: Hello world\n"
   ]
  },
  {
   "cell_type": "code",
   "execution_count": 45,
   "id": "ba51d621-7577-4701-a5c1-82df9d042de6",
   "metadata": {},
   "outputs": [
    {
     "name": "stdout",
     "output_type": "stream",
     "text": [
      "Hello, World!\n",
      "Hello, World!   \n",
      "   Hello, World!\n",
      "['Python', 'is', 'awesome']\n",
      "['apple', 'banana', 'cherry']\n"
     ]
    }
   ],
   "source": [
    "#Remove Whitespace and Split Strings\n",
    "\n",
    "# Example 1: Remove leading and trailing whitespace\n",
    "text = \"   Hello, World!   \"\n",
    "trimmed_text = text.strip()\n",
    "print(trimmed_text)  # Output: Hello, World!\n",
    "\n",
    "# Example 2: Remove only leading whitespace\n",
    "leading_trimmed_text = text.lstrip()\n",
    "print(leading_trimmed_text)  # Output: \"Hello, World!   \"\n",
    "\n",
    "# Example 3: Remove only trailing whitespace\n",
    "trailing_trimmed_text = text.rstrip()\n",
    "print(trailing_trimmed_text)  # Output: \"   Hello, World!\"\n",
    "\n",
    "# Example 4: Split a string into a list by spaces\n",
    "text = \"Python is awesome\"\n",
    "split_text = text.split()\n",
    "print(split_text)  # Output: ['Python', 'is', 'awesome']\n",
    "\n",
    "# Example 5: Split a string using a specific delimiter\n",
    "csv_text = \"apple,banana,cherry\"\n",
    "split_csv = csv_text.split(',')\n",
    "print(split_csv)  # Output: ['apple', 'banana', 'cherry']\n",
    "\n",
    "\n",
    "\n"
   ]
  },
  {
   "cell_type": "code",
   "execution_count": null,
   "id": "b1c63b8c-c3d8-40d3-a0f9-2ce5e237d348",
   "metadata": {},
   "outputs": [],
   "source": []
  },
  {
   "cell_type": "code",
   "execution_count": null,
   "id": "aba0106f-8ed4-47f7-aaab-6617200bd1e7",
   "metadata": {},
   "outputs": [],
   "source": []
  },
  {
   "cell_type": "code",
   "execution_count": null,
   "id": "2fdbeda6-ebdf-4d9c-acc6-288f321bf7d6",
   "metadata": {},
   "outputs": [],
   "source": []
  }
 ],
 "metadata": {
  "kernelspec": {
   "display_name": "Python 3 (ipykernel)",
   "language": "python",
   "name": "python3"
  },
  "language_info": {
   "codemirror_mode": {
    "name": "ipython",
    "version": 3
   },
   "file_extension": ".py",
   "mimetype": "text/x-python",
   "name": "python",
   "nbconvert_exporter": "python",
   "pygments_lexer": "ipython3",
   "version": "3.11.7"
  }
 },
 "nbformat": 4,
 "nbformat_minor": 5
}
